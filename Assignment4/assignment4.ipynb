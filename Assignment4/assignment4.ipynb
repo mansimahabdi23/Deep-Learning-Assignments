{
 "cells": [
  {
   "cell_type": "markdown",
   "metadata": {
    "id": "cU5_Q7e5lTVw"
   },
   "source": [
    "\n",
    "# Assignment 4: Time Series Prediction using RNN - TESLA STOCK MARKET ANALYSIS\n",
    "---\n",
    "\n"
   ]
  },
  {
   "cell_type": "code",
   "execution_count": 1,
   "metadata": {
    "executionInfo": {
     "elapsed": 8586,
     "status": "ok",
     "timestamp": 1757322622620,
     "user": {
      "displayName": "MANSI MAHABDI",
      "userId": "13763726908150915149"
     },
     "user_tz": -330
    },
    "id": "NXwRf0iCldrq"
   },
   "outputs": [],
   "source": [
    "import numpy as np\n",
    "import pandas as pd\n",
    "import matplotlib.pyplot as plt\n",
    "from sklearn.preprocessing import MinMaxScaler\n",
    "from keras.models import Sequential\n",
    "from keras.layers import Dense, SimpleRNN\n",
    "from sklearn.model_selection import train_test_split"
   ]
  },
  {
   "cell_type": "code",
   "execution_count": 3,
   "metadata": {
    "executionInfo": {
     "elapsed": 4,
     "status": "ok",
     "timestamp": 1757323920571,
     "user": {
      "displayName": "MANSI MAHABDI",
      "userId": "13763726908150915149"
     },
     "user_tz": -330
    },
    "id": "yMZFpQe4lvbM"
   },
   "outputs": [],
   "source": [
    "dataframe = pd.read_csv('TESLA.csv')\n",
    "dataframe.head()\n",
    "dataframe['Date'] = pd.to_datetime(dataframe['Date'])\n",
    "dataframe.set_index('Date', inplace=True)\n"
   ]
  },
  {
   "cell_type": "markdown",
   "metadata": {
    "id": "VpOmJ6S1rAEC"
   },
   "source": [
    "Preprocess the data (normalization)"
   ]
  },
  {
   "cell_type": "code",
   "execution_count": 4,
   "metadata": {
    "executionInfo": {
     "elapsed": 16,
     "status": "ok",
     "timestamp": 1757324035303,
     "user": {
      "displayName": "MANSI MAHABDI",
      "userId": "13763726908150915149"
     },
     "user_tz": -330
    },
    "id": "QXJw2adHp2No"
   },
   "outputs": [],
   "source": [
    "closing_prices = dataframe[['Close']].values\n",
    "scaler_obj = MinMaxScaler(feature_range=(0, 1))\n",
    "normalized_data = scaler_obj.fit_transform(closing_prices)\n"
   ]
  },
  {
   "cell_type": "markdown",
   "metadata": {
    "id": "knHSD3d5rQ71"
   },
   "source": [
    "Create Sequences for RNN"
   ]
  },
  {
   "cell_type": "code",
   "execution_count": 6,
   "metadata": {
    "executionInfo": {
     "elapsed": 9,
     "status": "ok",
     "timestamp": 1757324205776,
     "user": {
      "displayName": "MANSI MAHABDI",
      "userId": "13763726908150915149"
     },
     "user_tz": -330
    },
    "id": "tYVO9zvvrMMz"
   },
   "outputs": [],
   "source": [
    "def generate_sequences(data, seq_len):\n",
    "    X_seq, y_seq = [], []\n",
    "    for idx in range(len(data) - seq_len):\n",
    "        X_seq.append(data[idx:idx + seq_len])\n",
    "        y_seq.append(data[idx + seq_len])\n",
    "    return np.array(X_seq), np.array(y_seq)\n",
    "\n",
    "sequence_len = 60  # You can modify the sequence length as needed\n",
    "X_features, y_labels = generate_sequences(normalized_data, sequence_len)"
   ]
  },
  {
   "cell_type": "code",
   "execution_count": 7,
   "metadata": {
    "executionInfo": {
     "elapsed": 11,
     "status": "ok",
     "timestamp": 1757324306431,
     "user": {
      "displayName": "MANSI MAHABDI",
      "userId": "13763726908150915149"
     },
     "user_tz": -330
    },
    "id": "LISb8u0UrviX"
   },
   "outputs": [],
   "source": [
    "train_test_split_idx = int(len(X_features) * 0.8)\n",
    "X_train_data, y_train_data = X_features[:train_test_split_idx], y_labels[:train_test_split_idx]\n",
    "X_test_data, y_test_data = X_features[train_test_split_idx:], y_labels[train_test_split_idx:]\n"
   ]
  },
  {
   "cell_type": "markdown",
   "metadata": {
    "id": "IV2_jJQosQXM"
   },
   "source": [
    "Build the RNN Model"
   ]
  },
  {
   "cell_type": "code",
   "execution_count": 8,
   "metadata": {
    "colab": {
     "base_uri": "https://localhost:8080/"
    },
    "executionInfo": {
     "elapsed": 119,
     "status": "ok",
     "timestamp": 1757324683492,
     "user": {
      "displayName": "MANSI MAHABDI",
      "userId": "13763726908150915149"
     },
     "user_tz": -330
    },
    "id": "mwsgCYTMsOZn",
    "outputId": "e1606174-10f5-4bcf-f8e8-eb1df9a93590"
   },
   "outputs": [
    {
     "name": "stderr",
     "output_type": "stream",
     "text": [
      "/usr/local/lib/python3.12/dist-packages/keras/src/layers/rnn/rnn.py:199: UserWarning: Do not pass an `input_shape`/`input_dim` argument to a layer. When using Sequential models, prefer using an `Input(shape)` object as the first layer in the model instead.\n",
      "  super().__init__(**kwargs)\n"
     ]
    }
   ],
   "source": [
    "rnn_model = Sequential()\n",
    "rnn_model.add(SimpleRNN(units=50, activation='relu', input_shape=(sequence_len, 1)))\n",
    "rnn_model.add(Dense(units=1))\n",
    "\n",
    "rnn_model.compile(optimizer='adam', loss='mean_squared_error')"
   ]
  },
  {
   "cell_type": "code",
   "execution_count": 9,
   "metadata": {
    "colab": {
     "base_uri": "https://localhost:8080/"
    },
    "executionInfo": {
     "elapsed": 16457,
     "status": "ok",
     "timestamp": 1757324762037,
     "user": {
      "displayName": "MANSI MAHABDI",
      "userId": "13763726908150915149"
     },
     "user_tz": -330
    },
    "id": "tEDArIhKsifi",
    "outputId": "b0c32c68-e15e-45c8-ed57-756aee0cb629"
   },
   "outputs": [
    {
     "name": "stdout",
     "output_type": "stream",
     "text": [
      "Epoch 1/10\n",
      "\u001b[1m73/73\u001b[0m \u001b[32m━━━━━━━━━━━━━━━━━━━━\u001b[0m\u001b[37m\u001b[0m \u001b[1m5s\u001b[0m 15ms/step - loss: 3.0895e-04 - val_loss: 0.0578\n",
      "Epoch 2/10\n",
      "\u001b[1m73/73\u001b[0m \u001b[32m━━━━━━━━━━━━━━━━━━━━\u001b[0m\u001b[37m\u001b[0m \u001b[1m1s\u001b[0m 12ms/step - loss: 2.0809e-06 - val_loss: 0.0571\n",
      "Epoch 3/10\n",
      "\u001b[1m73/73\u001b[0m \u001b[32m━━━━━━━━━━━━━━━━━━━━\u001b[0m\u001b[37m\u001b[0m \u001b[1m1s\u001b[0m 12ms/step - loss: 2.6463e-06 - val_loss: 0.0589\n",
      "Epoch 4/10\n",
      "\u001b[1m73/73\u001b[0m \u001b[32m━━━━━━━━━━━━━━━━━━━━\u001b[0m\u001b[37m\u001b[0m \u001b[1m1s\u001b[0m 12ms/step - loss: 2.0830e-06 - val_loss: 0.0598\n",
      "Epoch 5/10\n",
      "\u001b[1m73/73\u001b[0m \u001b[32m━━━━━━━━━━━━━━━━━━━━\u001b[0m\u001b[37m\u001b[0m \u001b[1m1s\u001b[0m 12ms/step - loss: 2.1233e-06 - val_loss: 0.0604\n",
      "Epoch 6/10\n",
      "\u001b[1m73/73\u001b[0m \u001b[32m━━━━━━━━━━━━━━━━━━━━\u001b[0m\u001b[37m\u001b[0m \u001b[1m1s\u001b[0m 13ms/step - loss: 1.9389e-06 - val_loss: 0.0607\n",
      "Epoch 7/10\n",
      "\u001b[1m73/73\u001b[0m \u001b[32m━━━━━━━━━━━━━━━━━━━━\u001b[0m\u001b[37m\u001b[0m \u001b[1m1s\u001b[0m 12ms/step - loss: 2.6586e-06 - val_loss: 0.0615\n",
      "Epoch 8/10\n",
      "\u001b[1m73/73\u001b[0m \u001b[32m━━━━━━━━━━━━━━━━━━━━\u001b[0m\u001b[37m\u001b[0m \u001b[1m1s\u001b[0m 13ms/step - loss: 1.8971e-06 - val_loss: 0.0616\n",
      "Epoch 9/10\n",
      "\u001b[1m73/73\u001b[0m \u001b[32m━━━━━━━━━━━━━━━━━━━━\u001b[0m\u001b[37m\u001b[0m \u001b[1m1s\u001b[0m 18ms/step - loss: 1.8693e-06 - val_loss: 0.0622\n",
      "Epoch 10/10\n",
      "\u001b[1m73/73\u001b[0m \u001b[32m━━━━━━━━━━━━━━━━━━━━\u001b[0m\u001b[37m\u001b[0m \u001b[1m2s\u001b[0m 12ms/step - loss: 1.7169e-06 - val_loss: 0.0628\n"
     ]
    }
   ],
   "source": [
    "training_history = rnn_model.fit(X_train_data, y_train_data, epochs=10, batch_size=32, validation_data=(X_test_data, y_test_data))\n"
   ]
  },
  {
   "cell_type": "markdown",
   "metadata": {
    "id": "lCZHn0T1uBbK"
   },
   "source": [
    "Prediction for next 20 days"
   ]
  },
  {
   "cell_type": "code",
   "execution_count": 10,
   "metadata": {
    "colab": {
     "base_uri": "https://localhost:8080/"
    },
    "executionInfo": {
     "elapsed": 2466,
     "status": "ok",
     "timestamp": 1757324811058,
     "user": {
      "displayName": "MANSI MAHABDI",
      "userId": "13763726908150915149"
     },
     "user_tz": -330
    },
    "id": "PHnti7-it5m6",
    "outputId": "6a2961df-d929-40f8-9b08-950ced454220"
   },
   "outputs": [
    {
     "name": "stdout",
     "output_type": "stream",
     "text": [
      "\u001b[1m1/1\u001b[0m \u001b[32m━━━━━━━━━━━━━━━━━━━━\u001b[0m\u001b[37m\u001b[0m \u001b[1m0s\u001b[0m 142ms/step\n",
      "\u001b[1m1/1\u001b[0m \u001b[32m━━━━━━━━━━━━━━━━━━━━\u001b[0m\u001b[37m\u001b[0m \u001b[1m0s\u001b[0m 106ms/step\n",
      "\u001b[1m1/1\u001b[0m \u001b[32m━━━━━━━━━━━━━━━━━━━━\u001b[0m\u001b[37m\u001b[0m \u001b[1m0s\u001b[0m 140ms/step\n",
      "\u001b[1m1/1\u001b[0m \u001b[32m━━━━━━━━━━━━━━━━━━━━\u001b[0m\u001b[37m\u001b[0m \u001b[1m0s\u001b[0m 36ms/step\n",
      "\u001b[1m1/1\u001b[0m \u001b[32m━━━━━━━━━━━━━━━━━━━━\u001b[0m\u001b[37m\u001b[0m \u001b[1m0s\u001b[0m 48ms/step\n",
      "\u001b[1m1/1\u001b[0m \u001b[32m━━━━━━━━━━━━━━━━━━━━\u001b[0m\u001b[37m\u001b[0m \u001b[1m0s\u001b[0m 37ms/step\n",
      "\u001b[1m1/1\u001b[0m \u001b[32m━━━━━━━━━━━━━━━━━━━━\u001b[0m\u001b[37m\u001b[0m \u001b[1m0s\u001b[0m 34ms/step\n",
      "\u001b[1m1/1\u001b[0m \u001b[32m━━━━━━━━━━━━━━━━━━━━\u001b[0m\u001b[37m\u001b[0m \u001b[1m0s\u001b[0m 36ms/step\n",
      "\u001b[1m1/1\u001b[0m \u001b[32m━━━━━━━━━━━━━━━━━━━━\u001b[0m\u001b[37m\u001b[0m \u001b[1m0s\u001b[0m 34ms/step\n",
      "\u001b[1m1/1\u001b[0m \u001b[32m━━━━━━━━━━━━━━━━━━━━\u001b[0m\u001b[37m\u001b[0m \u001b[1m0s\u001b[0m 35ms/step\n",
      "\u001b[1m1/1\u001b[0m \u001b[32m━━━━━━━━━━━━━━━━━━━━\u001b[0m\u001b[37m\u001b[0m \u001b[1m0s\u001b[0m 39ms/step\n",
      "\u001b[1m1/1\u001b[0m \u001b[32m━━━━━━━━━━━━━━━━━━━━\u001b[0m\u001b[37m\u001b[0m \u001b[1m0s\u001b[0m 35ms/step\n",
      "\u001b[1m1/1\u001b[0m \u001b[32m━━━━━━━━━━━━━━━━━━━━\u001b[0m\u001b[37m\u001b[0m \u001b[1m0s\u001b[0m 35ms/step\n",
      "\u001b[1m1/1\u001b[0m \u001b[32m━━━━━━━━━━━━━━━━━━━━\u001b[0m\u001b[37m\u001b[0m \u001b[1m0s\u001b[0m 37ms/step\n",
      "\u001b[1m1/1\u001b[0m \u001b[32m━━━━━━━━━━━━━━━━━━━━\u001b[0m\u001b[37m\u001b[0m \u001b[1m0s\u001b[0m 34ms/step\n",
      "\u001b[1m1/1\u001b[0m \u001b[32m━━━━━━━━━━━━━━━━━━━━\u001b[0m\u001b[37m\u001b[0m \u001b[1m0s\u001b[0m 36ms/step\n",
      "\u001b[1m1/1\u001b[0m \u001b[32m━━━━━━━━━━━━━━━━━━━━\u001b[0m\u001b[37m\u001b[0m \u001b[1m0s\u001b[0m 37ms/step\n",
      "\u001b[1m1/1\u001b[0m \u001b[32m━━━━━━━━━━━━━━━━━━━━\u001b[0m\u001b[37m\u001b[0m \u001b[1m0s\u001b[0m 34ms/step\n",
      "\u001b[1m1/1\u001b[0m \u001b[32m━━━━━━━━━━━━━━━━━━━━\u001b[0m\u001b[37m\u001b[0m \u001b[1m0s\u001b[0m 34ms/step\n",
      "\u001b[1m1/1\u001b[0m \u001b[32m━━━━━━━━━━━━━━━━━━━━\u001b[0m\u001b[37m\u001b[0m \u001b[1m0s\u001b[0m 38ms/step\n"
     ]
    }
   ],
   "source": [
    "future_predictions = []\n",
    "recent_sequence = normalized_data[train_test_split_idx - sequence_len:train_test_split_idx]\n",
    "\n",
    "for _ in range(20):  # Predict for the next 20 days\n",
    "    recent_sequence = np.reshape(recent_sequence, (1, sequence_len, 1))  # Ensure correct shape for RNN\n",
    "    predicted_price = rnn_model.predict(recent_sequence)\n",
    "\n",
    "    future_predictions.append(predicted_price[0][0])  # Store predicted price\n",
    "\n",
    "    # Reshape predicted price and append it to the sequence\n",
    "    predicted_price = np.reshape(predicted_price, (1, 1, 1))\n",
    "    recent_sequence = np.append(recent_sequence[:, 1:, :], predicted_price, axis=1)"
   ]
  },
  {
   "cell_type": "markdown",
   "metadata": {
    "id": "FKNYu91juQQm"
   },
   "source": [
    "Inverse transform the predicted prices to the original scale"
   ]
  },
  {
   "cell_type": "code",
   "execution_count": 11,
   "metadata": {
    "executionInfo": {
     "elapsed": 109,
     "status": "ok",
     "timestamp": 1757324848573,
     "user": {
      "displayName": "MANSI MAHABDI",
      "userId": "13763726908150915149"
     },
     "user_tz": -330
    },
    "id": "KvQHJcwkuI_D"
   },
   "outputs": [],
   "source": [
    "predicted_future_prices = scaler_obj.inverse_transform(np.array(future_predictions).reshape(-1, 1))\n"
   ]
  },
  {
   "cell_type": "markdown",
   "metadata": {
    "id": "Z3Sz2NIJuV0J"
   },
   "source": [
    "Compare with actual prices (next 20 days)"
   ]
  },
  {
   "cell_type": "code",
   "execution_count": 12,
   "metadata": {
    "executionInfo": {
     "elapsed": 11,
     "status": "ok",
     "timestamp": 1757324869784,
     "user": {
      "displayName": "MANSI MAHABDI",
      "userId": "13763726908150915149"
     },
     "user_tz": -330
    },
    "id": "-4oL3GcduSvi"
   },
   "outputs": [],
   "source": [
    "actual_future_prices = scaler_obj.inverse_transform(normalized_data[train_test_split_idx:train_test_split_idx+20])\n"
   ]
  },
  {
   "cell_type": "code",
   "execution_count": 13,
   "metadata": {
    "colab": {
     "base_uri": "https://localhost:8080/",
     "height": 472
    },
    "executionInfo": {
     "elapsed": 731,
     "status": "ok",
     "timestamp": 1757324880792,
     "user": {
      "displayName": "MANSI MAHABDI",
      "userId": "13763726908150915149"
     },
     "user_tz": -330
    },
    "id": "yuOh_ctkuX8L",
    "outputId": "0ce77340-b873-430c-885b-ff0cc9c04690"
   },
   "outputs": [
    {
     "data": {
      "image/png": "[encoded data removed]",
      "text/plain": [
       "<Figure size 640x480 with 1 Axes>"
      ]
     },
     "metadata": {},
     "output_type": "display_data"
    }
   ],
   "source": [
    "plt.plot(dataframe.index[train_test_split_idx:train_test_split_idx+20], actual_future_prices, label='Actual Prices')\n",
    "plt.plot(dataframe.index[train_test_split_idx:train_test_split_idx+20], predicted_future_prices, label='Predicted Prices')\n",
    "plt.title('Actual vs Predicted Stock Prices for the Next 20 Days')\n",
    "plt.xlabel('Date')\n",
    "plt.ylabel('Stock Price')\n",
    "plt.legend()\n",
    "plt.show()\n"
   ]
  },
  {
   "cell_type": "markdown",
   "metadata": {
    "id": "eG0JwlZfuhmE"
   },
   "source": [
    "Print actual and predicted prices for the next 20 days"
   ]
  },
  {
   "cell_type": "code",
   "execution_count": 14,
   "metadata": {
    "colab": {
     "base_uri": "https://localhost:8080/"
    },
    "executionInfo": {
     "elapsed": 106,
     "status": "ok",
     "timestamp": 1757324895934,
     "user": {
      "displayName": "MANSI MAHABDI",
      "userId": "13763726908150915149"
     },
     "user_tz": -330
    },
    "id": "7qNKQU2Ouac0",
    "outputId": "87b3d17a-326a-468a-ba8d-95dd11afa19e"
   },
   "outputs": [
    {
     "name": "stdout",
     "output_type": "stream",
     "text": [
      "Day 1: Actual: 49.41999799999999, Predicted: 45.832374572753906\n",
      "Day 2: Actual: 49.17400000000001, Predicted: 45.6280517578125\n",
      "Day 3: Actual: 49.040001, Predicted: 45.424922943115234\n",
      "Day 4: Actual: 48.562, Predicted: 45.11677932739258\n",
      "Day 5: Actual: 48.958, Predicted: 44.72346496582031\n",
      "Day 6: Actual: 48.698001999999995, Predicted: 44.359134674072266\n",
      "Day 7: Actual: 49.32, Predicted: 44.04978942871094\n",
      "Day 8: Actual: 48.124001, Predicted: 43.7358512878418\n",
      "Day 9: Actual: 48.245998, Predicted: 43.453094482421875\n",
      "Day 10: Actual: 44.641998, Predicted: 43.178375244140625\n",
      "Day 11: Actual: 45.740002, Predicted: 42.89345932006836\n",
      "Day 12: Actual: 48.512001, Predicted: 42.617122650146484\n",
      "Day 13: Actual: 48.425999, Predicted: 42.34596252441406\n",
      "Day 14: Actual: 48.17399999999999, Predicted: 42.0738525390625\n",
      "Day 15: Actual: 48.938, Predicted: 41.805519104003906\n",
      "Day 16: Actual: 48.625999, Predicted: 41.53902816772461\n",
      "Day 17: Actual: 46.605999, Predicted: 41.27216720581055\n",
      "Day 18: Actual: 46.285999, Predicted: 41.006221771240234\n",
      "Day 19: Actual: 47.543999, Predicted: 40.74140548706055\n",
      "Day 20: Actual: 48.009998, Predicted: 40.477230072021484\n"
     ]
    }
   ],
   "source": [
    "for day in range(20):\n",
    "    print(f\"Day {day+1}: Actual: {actual_future_prices[day][0]}, Predicted: {predicted_future_prices[day][0]}\")\n"
   ]
  },
  {
   "cell_type": "code",
   "execution_count": null,
   "metadata": {
    "id": "Ngea72t9ueTq"
   },
   "outputs": [],
   "source": []
  }
 ],
 "metadata": {
  "colab": {
   "authorship_tag": "ABX9TyNJP6xAj8dMe9FIY29Lkkjn",
   "provenance": []
  },
  "kernelspec": {
   "display_name": "Python 3",
   "name": "python3"
  },
  "language_info": {
   "name": "python",
   "version": "3.12.10"
  }
 },
 "nbformat": 4,
 "nbformat_minor": 0
}
